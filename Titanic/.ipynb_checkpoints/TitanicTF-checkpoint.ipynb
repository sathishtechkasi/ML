{
 "cells": [
  {
   "cell_type": "markdown",
   "id": "157cd8d1",
   "metadata": {},
   "source": [
    "### Predict survival on the Titanic"
   ]
  },
  {
   "cell_type": "code",
   "execution_count": 1,
   "id": "b7393826",
   "metadata": {},
   "outputs": [],
   "source": [
    "#!pip3 install tensorflow"
   ]
  },
  {
   "cell_type": "code",
   "execution_count": 2,
   "id": "f2eca0a2",
   "metadata": {},
   "outputs": [],
   "source": [
    "import pandas as pd\n",
    "import numpy as np\n",
    "import seaborn as sns\n",
    "import matplotlib.pyplot as plt\n",
    "from sklearn.ensemble import RandomForestClassifier\n",
    "from sklearn.pipeline import make_pipeline\n",
    "from sklearn.preprocessing import StandardScaler\n",
    "#import tensorflow as tf\n",
    "#import tensorflow_decision_forests as tfdf\n",
    "\n",
    " "
   ]
  },
  {
   "cell_type": "code",
   "execution_count": 3,
   "id": "c1da8c7b",
   "metadata": {},
   "outputs": [],
   "source": [
    "train_data=pd.read_csv('../Titanic/train.csv')\n",
    "test_data=pd.read_csv('../Titanic/test.csv')"
   ]
  },
  {
   "cell_type": "code",
   "execution_count": 4,
   "id": "9ef981dc",
   "metadata": {
    "scrolled": true
   },
   "outputs": [],
   "source": [
    "#train_data.head()"
   ]
  },
  {
   "cell_type": "code",
   "execution_count": 5,
   "id": "e6e4c914",
   "metadata": {},
   "outputs": [
    {
     "data": {
      "text/plain": [
       "0.8159371492704826"
      ]
     },
     "execution_count": 5,
     "metadata": {},
     "output_type": "execute_result"
    }
   ],
   "source": [
    "y=train_data[\"Survived\"]\n",
    "features=[\"Sex\",\"Pclass\",\"SibSp\",\"Parch\"]\n",
    "X=pd.get_dummies(train_data[features])\n",
    "X_Test=pd.get_dummies(test_data[features])\n",
    "model=RandomForestClassifier(n_estimators=100,max_depth=5,random_state=1)\n",
    "model.fit(X,y)\n",
    "model.score(X,y)"
   ]
  },
  {
   "cell_type": "code",
   "execution_count": 6,
   "id": "8fd14a63",
   "metadata": {},
   "outputs": [
    {
     "data": {
      "text/html": [
       "<div>\n",
       "<style scoped>\n",
       "    .dataframe tbody tr th:only-of-type {\n",
       "        vertical-align: middle;\n",
       "    }\n",
       "\n",
       "    .dataframe tbody tr th {\n",
       "        vertical-align: top;\n",
       "    }\n",
       "\n",
       "    .dataframe thead th {\n",
       "        text-align: right;\n",
       "    }\n",
       "</style>\n",
       "<table border=\"1\" class=\"dataframe\">\n",
       "  <thead>\n",
       "    <tr style=\"text-align: right;\">\n",
       "      <th></th>\n",
       "      <th>PassengerId</th>\n",
       "      <th>Survived</th>\n",
       "      <th>Pclass</th>\n",
       "      <th>Name</th>\n",
       "      <th>Sex</th>\n",
       "      <th>Age</th>\n",
       "      <th>SibSp</th>\n",
       "      <th>Parch</th>\n",
       "      <th>Ticket</th>\n",
       "      <th>Fare</th>\n",
       "      <th>Cabin</th>\n",
       "      <th>Embarked</th>\n",
       "      <th>Sex_Category</th>\n",
       "    </tr>\n",
       "  </thead>\n",
       "  <tbody>\n",
       "    <tr>\n",
       "      <th>61</th>\n",
       "      <td>62</td>\n",
       "      <td>1</td>\n",
       "      <td>1</td>\n",
       "      <td>Icard, Miss. Amelie</td>\n",
       "      <td>female</td>\n",
       "      <td>38.0</td>\n",
       "      <td>0</td>\n",
       "      <td>0</td>\n",
       "      <td>113572</td>\n",
       "      <td>80.0</td>\n",
       "      <td>B28</td>\n",
       "      <td>NaN</td>\n",
       "      <td>1</td>\n",
       "    </tr>\n",
       "    <tr>\n",
       "      <th>829</th>\n",
       "      <td>830</td>\n",
       "      <td>1</td>\n",
       "      <td>1</td>\n",
       "      <td>Stone, Mrs. George Nelson (Martha Evelyn)</td>\n",
       "      <td>female</td>\n",
       "      <td>62.0</td>\n",
       "      <td>0</td>\n",
       "      <td>0</td>\n",
       "      <td>113572</td>\n",
       "      <td>80.0</td>\n",
       "      <td>B28</td>\n",
       "      <td>NaN</td>\n",
       "      <td>1</td>\n",
       "    </tr>\n",
       "  </tbody>\n",
       "</table>\n",
       "</div>"
      ],
      "text/plain": [
       "     PassengerId  Survived  Pclass                                       Name  \\\n",
       "61            62         1       1                        Icard, Miss. Amelie   \n",
       "829          830         1       1  Stone, Mrs. George Nelson (Martha Evelyn)   \n",
       "\n",
       "        Sex   Age  SibSp  Parch  Ticket  Fare Cabin Embarked  Sex_Category  \n",
       "61   female  38.0      0      0  113572  80.0   B28      NaN             1  \n",
       "829  female  62.0      0      0  113572  80.0   B28      NaN             1  "
      ]
     },
     "execution_count": 6,
     "metadata": {},
     "output_type": "execute_result"
    }
   ],
   "source": [
    "#train_data['Age'].fillna(value=train_data['Age'].mean(), inplace=True)\n",
    "train_data['Sex_Category']=train_data['Sex'].replace(['male', 'female'],[0, 1])\n",
    "train_data.loc[train_data[\"Embarked\"].isnull()]"
   ]
  },
  {
   "cell_type": "code",
   "execution_count": 7,
   "id": "5e43c198",
   "metadata": {},
   "outputs": [],
   "source": [
    "train_data[(train_data[\"Fare\"].between(75.0,85.0)) & (train_data[\"Pclass\"]==1) & (train_data[\"Cabin\"].str[0]==\"B\")]\n",
    "train_data['Embarked'].fillna(value='C', inplace=True)\n",
    "#train_data.isnull().sum()"
   ]
  },
  {
   "cell_type": "code",
   "execution_count": 8,
   "id": "e6dc9891",
   "metadata": {},
   "outputs": [],
   "source": [
    "train_data['Salutation']=train_data[\"Name\"].str.extract('([A-Za-z]+)\\.',expand=False)"
   ]
  },
  {
   "cell_type": "code",
   "execution_count": 9,
   "id": "b9fe8284",
   "metadata": {},
   "outputs": [
    {
     "data": {
      "text/plain": [
       "array(['Mr', 'Mrs', 'Miss', 'Master', 'Don', 'Rev', 'Dr', 'Mme', 'Ms',\n",
       "       'Major', 'Lady', 'Sir', 'Mlle', 'Col', 'Capt', 'Countess',\n",
       "       'Jonkheer'], dtype=object)"
      ]
     },
     "execution_count": 9,
     "metadata": {},
     "output_type": "execute_result"
    }
   ],
   "source": [
    "train_data['Salutation'].unique()\n"
   ]
  },
  {
   "cell_type": "code",
   "execution_count": 10,
   "id": "ce07fe62",
   "metadata": {},
   "outputs": [
    {
     "data": {
      "text/plain": [
       "array(['Mr', 'Mrs', 'Miss', 'Master', 'Dr'], dtype=object)"
      ]
     },
     "execution_count": 10,
     "metadata": {},
     "output_type": "execute_result"
    }
   ],
   "source": [
    "train_data.loc[train_data[\"Age\"].isnull()]['Salutation'].unique()"
   ]
  },
  {
   "cell_type": "code",
   "execution_count": 11,
   "id": "c56cee96",
   "metadata": {},
   "outputs": [],
   "source": [
    "train_data[\"Age\"]=train_data.groupby('Salutation')['Age'].apply(lambda x:x.fillna(x.median()))\n",
    "#train_data.info()"
   ]
  },
  {
   "cell_type": "code",
   "execution_count": 12,
   "id": "a2812e36",
   "metadata": {},
   "outputs": [],
   "source": [
    "#train_data.describe(include='all')\n",
    "#Women=train_data.loc[train_data.Sex == 'female']['Survived']\n",
    "#men=train_data.loc[train_data.Sex == 'male']['Survived']\n",
    "#sns.catplot(x='Survived',col='Pclass',kind='count',data=train_data)\n",
    "#plt.show()\n",
    "#sns.catplot(x='Survived',col='Age',kind='count',data=train_data)\n",
    "#plt.show()\n",
    "#sns.catplot(x='Survived',col='Sex',kind='count',data=train_data)\n",
    "#plt.show()"
   ]
  },
  {
   "cell_type": "code",
   "execution_count": 13,
   "id": "7adecd85",
   "metadata": {},
   "outputs": [
    {
     "data": {
      "text/plain": [
       "0.8473625140291807"
      ]
     },
     "execution_count": 13,
     "metadata": {},
     "output_type": "execute_result"
    }
   ],
   "source": [
    "y=train_data[\"Survived\"]\n",
    "features=[\"Sex\",\"Pclass\",\"SibSp\",\"Parch\",\"Age\"]\n",
    "#features=[\"Sex\",\"Pclass\",\"Age\"]\n",
    "X=pd.get_dummies(train_data[features])\n",
    "#X_Test=pd.get_dummies(test_data[features])\n",
    "model=RandomForestClassifier(n_estimators=100,max_depth=5,random_state=1)\n",
    "model.fit(X,y)\n",
    "model.score(X,y)"
   ]
  },
  {
   "cell_type": "code",
   "execution_count": 243,
   "id": "c0e6dc7a",
   "metadata": {},
   "outputs": [],
   "source": [
    "#Womenrate=sum(Women)/len(Women)\n",
    "#menrate=sum(men)/len(men)\n",
    "#allrate=sum(all)/len(all)"
   ]
  },
  {
   "cell_type": "code",
   "execution_count": 165,
   "id": "c4f9bddf",
   "metadata": {},
   "outputs": [],
   "source": [
    "#print(Womenrate)\n",
    "#print(menrate)\n",
    "#print(allrate)"
   ]
  },
  {
   "cell_type": "markdown",
   "id": "8d8448dd",
   "metadata": {},
   "source": [
    "### Features\n",
    "PassengerId,Survived,Pclass,Age,Sex_Category,SibSp,Parch,Fare"
   ]
  },
  {
   "cell_type": "code",
   "execution_count": null,
   "id": "706ad5fb",
   "metadata": {},
   "outputs": [],
   "source": []
  }
 ],
 "metadata": {
  "kernelspec": {
   "display_name": "Python 3 (ipykernel)",
   "language": "python",
   "name": "python3"
  },
  "language_info": {
   "codemirror_mode": {
    "name": "ipython",
    "version": 3
   },
   "file_extension": ".py",
   "mimetype": "text/x-python",
   "name": "python",
   "nbconvert_exporter": "python",
   "pygments_lexer": "ipython3",
   "version": "3.9.7"
  }
 },
 "nbformat": 4,
 "nbformat_minor": 5
}
