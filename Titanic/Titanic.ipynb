{
 "cells": [
  {
   "cell_type": "markdown",
   "id": "157cd8d1",
   "metadata": {},
   "source": [
    "### Predict survival on the Titanic"
   ]
  },
  {
   "cell_type": "code",
   "execution_count": 1,
   "id": "b7393826",
   "metadata": {},
   "outputs": [],
   "source": [
    "#!pip3 install tensorflow"
   ]
  },
  {
   "cell_type": "markdown",
   "id": "c4e96515",
   "metadata": {},
   "source": [
    "### Import Libraries"
   ]
  },
  {
   "cell_type": "code",
   "execution_count": 18,
   "id": "f2eca0a2",
   "metadata": {},
   "outputs": [],
   "source": [
    "import pandas as pd\n",
    "import numpy as np\n",
    "import seaborn as sb\n",
    "import matplotlib.pyplot as plt\n",
    "from sklearn.ensemble import RandomForestClassifier\n",
    "from sklearn.pipeline import make_pipeline\n",
    "\n",
    "#import tensorflow as tf\n",
    "#import tensorflow_decision_forests as tfdf\n",
    "\n",
    "import warnings\n",
    "warnings.filterwarnings('ignore')\n",
    "%matplotlib inline\n"
   ]
  },
  {
   "cell_type": "code",
   "execution_count": null,
   "id": "db007bce",
   "metadata": {},
   "outputs": [],
   "source": []
  },
  {
   "cell_type": "markdown",
   "id": "84fc3a8b",
   "metadata": {},
   "source": [
    "### Data Loading"
   ]
  },
  {
   "cell_type": "code",
   "execution_count": 2,
   "id": "c1da8c7b",
   "metadata": {},
   "outputs": [],
   "source": [
    "train_data=pd.read_csv('../Titanic/train.csv')\n",
    "#test_data=pd.read_csv('../Titanic/test.csv')"
   ]
  },
  {
   "cell_type": "markdown",
   "id": "c2ce5c4a",
   "metadata": {},
   "source": [
    "### Get Data Information"
   ]
  },
  {
   "cell_type": "code",
   "execution_count": 19,
   "id": "9ef981dc",
   "metadata": {
    "scrolled": true
   },
   "outputs": [
    {
     "name": "stdout",
     "output_type": "stream",
     "text": [
      "<class 'pandas.core.frame.DataFrame'>\n",
      "RangeIndex: 891 entries, 0 to 890\n",
      "Data columns (total 15 columns):\n",
      " #   Column        Non-Null Count  Dtype  \n",
      "---  ------        --------------  -----  \n",
      " 0   PassengerId   891 non-null    int64  \n",
      " 1   Survived      891 non-null    int64  \n",
      " 2   Pclass        891 non-null    int64  \n",
      " 3   Name          891 non-null    object \n",
      " 4   Sex           891 non-null    object \n",
      " 5   Age           891 non-null    float64\n",
      " 6   SibSp         891 non-null    int64  \n",
      " 7   Parch         891 non-null    int64  \n",
      " 8   Ticket        891 non-null    object \n",
      " 9   Fare          891 non-null    float64\n",
      " 10  Cabin         204 non-null    object \n",
      " 11  Embarked      891 non-null    object \n",
      " 12  Sex_Category  891 non-null    int64  \n",
      " 13  Alone         891 non-null    int64  \n",
      " 14  Salutation    891 non-null    object \n",
      "dtypes: float64(2), int64(7), object(6)\n",
      "memory usage: 104.5+ KB\n"
     ]
    }
   ],
   "source": [
    "train_data.info()"
   ]
  },
  {
   "cell_type": "code",
   "execution_count": 4,
   "id": "e6e4c914",
   "metadata": {},
   "outputs": [],
   "source": [
    "#y=train_data[\"Survived\"]\n",
    "#features=[\"Sex\",\"Pclass\",\"SibSp\",\"Parch\"]\n",
    "#X=pd.get_dummies(train_data[features])\n",
    "#X_Test=pd.get_dummies(test_data[features])\n",
    "#model=RandomForestClassifier(n_estimators=100,max_depth=5,random_state=1)\n",
    "#model.fit(X,y)\n",
    "#model.score(X,y)"
   ]
  },
  {
   "cell_type": "markdown",
   "id": "fb1187d3",
   "metadata": {},
   "source": [
    "### Function to normalise the row"
   ]
  },
  {
   "cell_type": "code",
   "execution_count": 20,
   "id": "22934f67",
   "metadata": {},
   "outputs": [],
   "source": [
    "def normalise_Alonerow(row):\n",
    "    if row['SibSp'] == 0 and row['Parch'] == 0:\n",
    "        return 1\n",
    "    else:\n",
    "        return 0"
   ]
  },
  {
   "cell_type": "code",
   "execution_count": null,
   "id": "7302a5c4",
   "metadata": {},
   "outputs": [],
   "source": []
  },
  {
   "cell_type": "code",
   "execution_count": 7,
   "id": "8fd14a63",
   "metadata": {},
   "outputs": [
    {
     "name": "stdout",
     "output_type": "stream",
     "text": [
      "<class 'pandas.core.frame.DataFrame'>\n",
      "RangeIndex: 891 entries, 0 to 890\n",
      "Data columns (total 14 columns):\n",
      " #   Column        Non-Null Count  Dtype  \n",
      "---  ------        --------------  -----  \n",
      " 0   PassengerId   891 non-null    int64  \n",
      " 1   Survived      891 non-null    int64  \n",
      " 2   Pclass        891 non-null    int64  \n",
      " 3   Name          891 non-null    object \n",
      " 4   Sex           891 non-null    object \n",
      " 5   Age           714 non-null    float64\n",
      " 6   SibSp         891 non-null    int64  \n",
      " 7   Parch         891 non-null    int64  \n",
      " 8   Ticket        891 non-null    object \n",
      " 9   Fare          891 non-null    float64\n",
      " 10  Cabin         204 non-null    object \n",
      " 11  Embarked      889 non-null    object \n",
      " 12  Sex_Category  891 non-null    int64  \n",
      " 13  Alone         891 non-null    int64  \n",
      "dtypes: float64(2), int64(7), object(5)\n",
      "memory usage: 97.6+ KB\n"
     ]
    }
   ],
   "source": [
    "#train_data['Age'].fillna(value=train_data['Age'].mean(), inplace=True)\n",
    "train_data['Sex_Category']=train_data['Sex'].replace(['male', 'female'],[0, 1])\n",
    "train_data.loc[train_data[\"Embarked\"].isnull()]\n",
    "train_data['Alone']= 0\n",
    "#train_data.loc[conditions,'Alone']=1\n",
    "#train_data['Alone'] = train_data.apply(normalise_Alonerow,axis=1)\n",
    "train_data.head()\n",
    "train_data.info()"
   ]
  },
  {
   "cell_type": "code",
   "execution_count": 8,
   "id": "5e43c198",
   "metadata": {},
   "outputs": [
    {
     "data": {
      "text/plain": [
       "PassengerId       0\n",
       "Survived          0\n",
       "Pclass            0\n",
       "Name              0\n",
       "Sex               0\n",
       "Age             177\n",
       "SibSp             0\n",
       "Parch             0\n",
       "Ticket            0\n",
       "Fare              0\n",
       "Cabin           687\n",
       "Embarked          0\n",
       "Sex_Category      0\n",
       "Alone             0\n",
       "dtype: int64"
      ]
     },
     "execution_count": 8,
     "metadata": {},
     "output_type": "execute_result"
    }
   ],
   "source": [
    "train_data[(train_data[\"Fare\"].between(75.0,85.0)) & (train_data[\"Pclass\"]==1) & (train_data[\"Cabin\"].str[0]==\"B\")]\n",
    "train_data['Embarked'].fillna(value='C', inplace=True)\n",
    "train_data.isnull().sum()"
   ]
  },
  {
   "cell_type": "code",
   "execution_count": 9,
   "id": "e6dc9891",
   "metadata": {},
   "outputs": [],
   "source": [
    "train_data['Salutation']=train_data['Name'].str.extract('([A-Za-z]+)\\.',expand=False)"
   ]
  },
  {
   "cell_type": "code",
   "execution_count": 10,
   "id": "b9fe8284",
   "metadata": {},
   "outputs": [
    {
     "data": {
      "text/plain": [
       "array([22.  , 38.  , 26.  , 35.  ,   nan, 54.  ,  2.  , 27.  , 14.  ,\n",
       "        4.  , 58.  , 20.  , 39.  , 55.  , 31.  , 34.  , 15.  , 28.  ,\n",
       "        8.  , 19.  , 40.  , 66.  , 42.  , 21.  , 18.  ,  3.  ,  7.  ,\n",
       "       49.  , 29.  , 65.  , 28.5 ,  5.  , 11.  , 45.  , 17.  , 32.  ,\n",
       "       16.  , 25.  ,  0.83, 30.  , 33.  , 23.  , 24.  , 46.  , 59.  ,\n",
       "       71.  , 37.  , 47.  , 14.5 , 70.5 , 32.5 , 12.  ,  9.  , 36.5 ,\n",
       "       51.  , 55.5 , 40.5 , 44.  ,  1.  , 61.  , 56.  , 50.  , 36.  ,\n",
       "       45.5 , 20.5 , 62.  , 41.  , 52.  , 63.  , 23.5 ,  0.92, 43.  ,\n",
       "       60.  , 10.  , 64.  , 13.  , 48.  ,  0.75, 53.  , 57.  , 80.  ,\n",
       "       70.  , 24.5 ,  6.  ,  0.67, 30.5 ,  0.42, 34.5 , 74.  ])"
      ]
     },
     "execution_count": 10,
     "metadata": {},
     "output_type": "execute_result"
    }
   ],
   "source": [
    "train_data['Age'].unique()\n"
   ]
  },
  {
   "cell_type": "code",
   "execution_count": 13,
   "id": "ce07fe62",
   "metadata": {},
   "outputs": [],
   "source": [
    "train_data.loc[train_data[\"Age\"].isnull()]['Salutation'].unique()\n",
    "train_data[\"Age\"]=train_data.groupby('Salutation')['Age'].apply(lambda x:x.fillna(x.median()))"
   ]
  },
  {
   "cell_type": "code",
   "execution_count": 14,
   "id": "8b6b4e3a",
   "metadata": {},
   "outputs": [],
   "source": [
    "#from sklearn.impute import SimpleImputer\n",
    "#imputer = SimpleImputer(missing_values=np.nan, strategy='mean')\n",
    "#train_data['Age']= imputer.fit_transform(train_data['Age']) \n",
    "#train_data.info()\n",
    "#imputer.fit(train_data['Age'])"
   ]
  },
  {
   "cell_type": "code",
   "execution_count": 15,
   "id": "c56cee96",
   "metadata": {},
   "outputs": [
    {
     "name": "stdout",
     "output_type": "stream",
     "text": [
      "<class 'pandas.core.frame.DataFrame'>\n",
      "RangeIndex: 891 entries, 0 to 890\n",
      "Data columns (total 15 columns):\n",
      " #   Column        Non-Null Count  Dtype  \n",
      "---  ------        --------------  -----  \n",
      " 0   PassengerId   891 non-null    int64  \n",
      " 1   Survived      891 non-null    int64  \n",
      " 2   Pclass        891 non-null    int64  \n",
      " 3   Name          891 non-null    object \n",
      " 4   Sex           891 non-null    object \n",
      " 5   Age           891 non-null    float64\n",
      " 6   SibSp         891 non-null    int64  \n",
      " 7   Parch         891 non-null    int64  \n",
      " 8   Ticket        891 non-null    object \n",
      " 9   Fare          891 non-null    float64\n",
      " 10  Cabin         204 non-null    object \n",
      " 11  Embarked      891 non-null    object \n",
      " 12  Sex_Category  891 non-null    int64  \n",
      " 13  Alone         891 non-null    int64  \n",
      " 14  Salutation    891 non-null    object \n",
      "dtypes: float64(2), int64(7), object(6)\n",
      "memory usage: 104.5+ KB\n"
     ]
    }
   ],
   "source": [
    "#train_data[\"Age\"]=train_data.groupby('Salutation')['Age'].apply(lambda x:x.fillna(x.median()))\n",
    "train_data.info()"
   ]
  },
  {
   "cell_type": "code",
   "execution_count": 16,
   "id": "aef0b17b",
   "metadata": {},
   "outputs": [],
   "source": [
    "# Create Column Transformer with 3 types of transformers\n",
    "num_features = train_data.select_dtypes(exclude=\"object\").columns\n",
    "cat_features = train_data.select_dtypes(include=\"object\").columns\n",
    "\n",
    "from sklearn.preprocessing import OneHotEncoder, StandardScaler\n",
    "from sklearn.compose import ColumnTransformer\n",
    "\n",
    "numeric_transformer = StandardScaler()\n",
    "oh_transformer = OneHotEncoder()\n",
    "\n",
    "preprocessor = ColumnTransformer(\n",
    "    [\n",
    "        (\"OneHotEncoder\", oh_transformer, cat_features),\n",
    "         (\"StandardScaler\", numeric_transformer, num_features),        \n",
    "    ]\n",
    ")"
   ]
  },
  {
   "cell_type": "code",
   "execution_count": 17,
   "id": "a2812e36",
   "metadata": {},
   "outputs": [
    {
     "data": {
      "image/png": "[encoded data removed]",
      "text/plain": [
       "<Figure size 432x288 with 1 Axes>"
      ]
     },
     "metadata": {
      "needs_background": "light"
     },
     "output_type": "display_data"
    },
    {
     "data": {
      "image/png": "[encoded data removed]",
      "text/plain": [
       "<Figure size 432x288 with 1 Axes>"
      ]
     },
     "metadata": {
      "needs_background": "light"
     },
     "output_type": "display_data"
    },
    {
     "data": {
      "image/png": "[encoded data removed]",
      "text/plain": [
       "<Figure size 430.5x360 with 1 Axes>"
      ]
     },
     "metadata": {
      "needs_background": "light"
     },
     "output_type": "display_data"
    },
    {
     "data": {
      "image/png": "[encoded data removed]",
      "text/plain": [
       "<Figure size 432x288 with 1 Axes>"
      ]
     },
     "metadata": {
      "needs_background": "light"
     },
     "output_type": "display_data"
    },
    {
     "data": {
      "image/png": "[encoded data removed]",
      "text/plain": [
       "<Figure size 432x288 with 1 Axes>"
      ]
     },
     "metadata": {
      "needs_background": "light"
     },
     "output_type": "display_data"
    }
   ],
   "source": [
    "#train_data.describe(include='all')\n",
    "#Women=train_data.loc[train_data.Sex == 'female']['Survived']\n",
    "#men=train_data.loc[train_data.Sex == 'male']['Survived']\n",
    "sb.countplot('Survived',hue='Pclass',data=train_data)\n",
    "plt.show()\n",
    "sb.countplot('Sex',hue='Survived',data=train_data)\n",
    "plt.show()\n",
    "pd.crosstab([train_data.Sex,train_data.Survived],train_data.Pclass,margins=True).style.background_gradient(cmap='summer_r')\n",
    "sb.factorplot('Pclass', 'Survived', hue='Sex', data=train_data)\n",
    "plt.show()\n",
    "pd.crosstab(train_data.Salutation,train_data.Sex).T.style.background_gradient(cmap='summer_r')\n",
    "sb.countplot('SibSp',hue='Survived',data=train_data)\n",
    "plt.show()\n",
    "sb.countplot('Parch',hue='Survived',data=train_data)\n",
    "plt.show()\n",
    "#sns.catplot(x='Survived',col='Age',kind='count',data=train_data)\n",
    "#plt.show()\n",
    "#sns.catplot(x='Survived',col='Sex',kind='count',data=train_data)\n",
    "#plt.show()"
   ]
  },
  {
   "cell_type": "code",
   "execution_count": 112,
   "id": "30ec5db7",
   "metadata": {},
   "outputs": [
    {
     "data": {
      "image/png": "[encoded data removed]",
      "text/plain": [
       "<Figure size 1152x720 with 2 Axes>"
      ]
     },
     "metadata": {},
     "output_type": "display_data"
    }
   ],
   "source": [
    "train_data.groupby('Salutation')['Age'].mean()\n",
    "\n",
    "f,ax=plt.subplots(1,2,figsize=(16,10))\n",
    "train_data['Survived'][train_data['Sex']=='male'].value_counts().plot.pie(explode=[0,0.2],autopct='%1.1f%%',ax=ax[0],shadow=True)\n",
    "train_data['Survived'][train_data['Sex']=='female'].value_counts().plot.pie(explode=[0,0.2],autopct='%1.1f%%',ax=ax[1],shadow=True)\n",
    "ax[0].set_title('Survived (male)')\n",
    "ax[1].set_title('Survived (female)')\n",
    "\n",
    "plt.show()\n"
   ]
  },
  {
   "cell_type": "code",
   "execution_count": 35,
   "id": "7adecd85",
   "metadata": {},
   "outputs": [
    {
     "data": {
      "text/plain": [
       "0.8473625140291807"
      ]
     },
     "execution_count": 35,
     "metadata": {},
     "output_type": "execute_result"
    }
   ],
   "source": [
    "y=train_data[\"Survived\"]\n",
    "features=[\"Sex\",\"Pclass\",\"SibSp\",\"Parch\",\"Age\"]\n",
    "#features=[\"Sex\",\"Pclass\",\"Age\"]\n",
    "X=pd.get_dummies(train_data[features])\n",
    "#X_Test=pd.get_dummies(test_data[features])\n",
    "model=RandomForestClassifier(n_estimators=100,max_depth=5,random_state=1)\n",
    "model.fit(X,y)\n",
    "model.score(X,y)"
   ]
  },
  {
   "cell_type": "code",
   "execution_count": 243,
   "id": "c0e6dc7a",
   "metadata": {},
   "outputs": [],
   "source": [
    "#Womenrate=sum(Women)/len(Women)\n",
    "#menrate=sum(men)/len(men)\n",
    "#allrate=sum(all)/len(all)"
   ]
  },
  {
   "cell_type": "code",
   "execution_count": 113,
   "id": "67774697",
   "metadata": {},
   "outputs": [
    {
     "data": {
      "text/plain": [
       "<AxesSubplot:xlabel='Alone'>"
      ]
     },
     "execution_count": 113,
     "metadata": {},
     "output_type": "execute_result"
    },
    {
     "data": {
      "image/png": "[encoded data removed]",
      "text/plain": [
       "<Figure size 432x288 with 1 Axes>"
      ]
     },
     "metadata": {
      "needs_background": "light"
     },
     "output_type": "display_data"
    },
    {
     "data": {
      "image/png": "[encoded data removed]",
      "text/plain": [
       "<Figure size 432x288 with 1 Axes>"
      ]
     },
     "metadata": {
      "needs_background": "light"
     },
     "output_type": "display_data"
    }
   ],
   "source": [
    "train_data.groupby(['Sex', 'Survived'])['Survived'].count()\n",
    "train_data[['Sex','Survived']].groupby(['Sex']).count().plot.bar()\n",
    "\n",
    "train_data.groupby(['Alone', 'Survived'])['Survived'].count()\n",
    "train_data[['Alone','Survived']].groupby(['Alone']).count().plot.bar()\n"
   ]
  },
  {
   "cell_type": "code",
   "execution_count": 118,
   "id": "c4f9bddf",
   "metadata": {},
   "outputs": [
    {
     "name": "stdout",
     "output_type": "stream",
     "text": [
      "           Age      Fare\n",
      "Age   1.000000  0.097944\n",
      "Fare  0.097944  1.000000\n",
      "Survived    0    1\n",
      "Pclass            \n",
      "1          80  136\n",
      "2          97   87\n",
      "3         372  119\n"
     ]
    }
   ],
   "source": [
    "correlation = train_data[['Age', 'Fare']].corr()\n",
    "print(correlation)\n",
    "cross_tab = pd.crosstab(train_data['Pclass'], train_data['Survived'])\n",
    "print(cross_tab)"
   ]
  },
  {
   "cell_type": "markdown",
   "id": "8d8448dd",
   "metadata": {},
   "source": [
    "### Features\n",
    "PassengerId,Survived,Pclass,Age,Sex_Category,SibSp,Parch,Fare"
   ]
  },
  {
   "cell_type": "code",
   "execution_count": null,
   "id": "706ad5fb",
   "metadata": {},
   "outputs": [],
   "source": []
  }
 ],
 "metadata": {
  "kernelspec": {
   "display_name": "Python 3 (ipykernel)",
   "language": "python",
   "name": "python3"
  },
  "language_info": {
   "codemirror_mode": {
    "name": "ipython",
    "version": 3
   },
   "file_extension": ".py",
   "mimetype": "text/x-python",
   "name": "python",
   "nbconvert_exporter": "python",
   "pygments_lexer": "ipython3",
   "version": "3.9.7"
  }
 },
 "nbformat": 4,
 "nbformat_minor": 5
}
